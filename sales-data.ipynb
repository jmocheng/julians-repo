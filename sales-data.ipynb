{
 "cells": [
  {
   "cell_type": "code",
   "execution_count": 530,
   "id": "e6c29683-607d-4fce-875f-79c2b59426c4",
   "metadata": {},
   "outputs": [],
   "source": [
    "import pandas as pd"
   ]
  },
  {
   "cell_type": "code",
   "execution_count": 532,
   "id": "5eefc8c6-f4ae-4054-8c98-97ef789dc597",
   "metadata": {},
   "outputs": [],
   "source": [
    "import numpy as np"
   ]
  },
  {
   "cell_type": "code",
   "execution_count": 534,
   "id": "24a2ff0c-fc9e-4531-87fb-0b90fba09e2e",
   "metadata": {},
   "outputs": [],
   "source": [
    "import matplotlib.pyplot as plt"
   ]
  },
  {
   "cell_type": "code",
   "execution_count": 536,
   "id": "8784fd7a-8bbc-4dd4-86d4-16964d7a09b9",
   "metadata": {},
   "outputs": [],
   "source": [
    "invoices = pd.read_csv('/Users/juliancheng/Downloads/fct_invoice.csv')"
   ]
  },
  {
   "cell_type": "code",
   "execution_count": 537,
   "id": "114aff1f-64f1-41b6-aa5e-9a3567159ea0",
   "metadata": {},
   "outputs": [],
   "source": [
    "import json"
   ]
  },
  {
   "cell_type": "code",
   "execution_count": 540,
   "id": "2274f010-863e-4736-bea2-02adefecd340",
   "metadata": {},
   "outputs": [],
   "source": [
    "with open('/Users/juliancheng/Downloads/dim_customer.json') as f:\n",
    "    data = json.load(f)"
   ]
  },
  {
   "cell_type": "code",
   "execution_count": 542,
   "id": "0261b975-0bc7-4592-94a9-8b66800c8244",
   "metadata": {},
   "outputs": [],
   "source": [
    "customers = pd.DataFrame(data)"
   ]
  },
  {
   "cell_type": "code",
   "execution_count": 544,
   "id": "2d3d0c17-79e2-4972-a2c1-6ba4475c20b3",
   "metadata": {},
   "outputs": [
    {
     "data": {
      "text/html": [
       "<div>\n",
       "<style scoped>\n",
       "    .dataframe tbody tr th:only-of-type {\n",
       "        vertical-align: middle;\n",
       "    }\n",
       "\n",
       "    .dataframe tbody tr th {\n",
       "        vertical-align: top;\n",
       "    }\n",
       "\n",
       "    .dataframe thead th {\n",
       "        text-align: right;\n",
       "    }\n",
       "</style>\n",
       "<table border=\"1\" class=\"dataframe\">\n",
       "  <thead>\n",
       "    <tr style=\"text-align: right;\">\n",
       "      <th></th>\n",
       "      <th>age</th>\n",
       "      <th>first_name</th>\n",
       "      <th>gender</th>\n",
       "      <th>id</th>\n",
       "      <th>last_name</th>\n",
       "    </tr>\n",
       "  </thead>\n",
       "  <tbody>\n",
       "    <tr>\n",
       "      <th>0</th>\n",
       "      <td>48.0</td>\n",
       "      <td>Nicholas</td>\n",
       "      <td>M</td>\n",
       "      <td>0</td>\n",
       "      <td>Flores</td>\n",
       "    </tr>\n",
       "    <tr>\n",
       "      <th>1</th>\n",
       "      <td>NaN</td>\n",
       "      <td>Jeffery</td>\n",
       "      <td>M</td>\n",
       "      <td>1</td>\n",
       "      <td>Rowe</td>\n",
       "    </tr>\n",
       "    <tr>\n",
       "      <th>2</th>\n",
       "      <td>57.0</td>\n",
       "      <td>Alexis</td>\n",
       "      <td>F</td>\n",
       "      <td>2</td>\n",
       "      <td>Benton</td>\n",
       "    </tr>\n",
       "    <tr>\n",
       "      <th>3</th>\n",
       "      <td>73.0</td>\n",
       "      <td>Amy</td>\n",
       "      <td>F</td>\n",
       "      <td>3</td>\n",
       "      <td>Johnson</td>\n",
       "    </tr>\n",
       "    <tr>\n",
       "      <th>4</th>\n",
       "      <td>20.0</td>\n",
       "      <td>David</td>\n",
       "      <td>M</td>\n",
       "      <td>4</td>\n",
       "      <td>Moore</td>\n",
       "    </tr>\n",
       "  </tbody>\n",
       "</table>\n",
       "</div>"
      ],
      "text/plain": [
       "    age first_name gender  id last_name\n",
       "0  48.0   Nicholas      M   0    Flores\n",
       "1   NaN    Jeffery      M   1      Rowe\n",
       "2  57.0     Alexis      F   2    Benton\n",
       "3  73.0        Amy      F   3   Johnson\n",
       "4  20.0      David      M   4     Moore"
      ]
     },
     "execution_count": 544,
     "metadata": {},
     "output_type": "execute_result"
    }
   ],
   "source": [
    "customers.head()"
   ]
  },
  {
   "cell_type": "markdown",
   "id": "e3c3c0ba-47a4-4d0c-af4a-8c0ef74a6d47",
   "metadata": {},
   "source": [
    "# EASY"
   ]
  },
  {
   "cell_type": "code",
   "execution_count": 546,
   "id": "8be560b3-b9ec-420e-a6e5-ce017413fa45",
   "metadata": {},
   "outputs": [
    {
     "data": {
      "text/plain": [
       "5191"
      ]
     },
     "execution_count": 546,
     "metadata": {},
     "output_type": "execute_result"
    }
   ],
   "source": [
    "# How many unique customers are in the dataset?\n",
    "customers['id'].nunique()"
   ]
  },
  {
   "cell_type": "code",
   "execution_count": 619,
   "id": "198af69b-2e65-4207-a649-43cab79e5690",
   "metadata": {},
   "outputs": [
    {
     "name": "stdout",
     "output_type": "stream",
     "text": [
      "the different categories are Clothing,Shoes,Books,Cosmetics,Food & Beverage,Toys,Technology,Souvenir therefore there are 8 unique categories\n"
     ]
    }
   ],
   "source": [
    "# What are the different categories of products available? How many unique categories are there?\n",
    "print('the different categories are',\n",
    "      ','.join(list(invoices['category'].unique())),\n",
    "      'therefore there are',\n",
    "      str(invoices['category'].nunique()),\n",
    "      'unique categories'\n",
    "     )"
   ]
  },
  {
   "cell_type": "code",
   "execution_count": 595,
   "id": "6769b57b-798a-4a86-84ea-a04f8faee096",
   "metadata": {},
   "outputs": [
    {
     "data": {
      "text/plain": [
       "payment_method\n",
       "Cash    44447\n",
       "Name: invoice_no, dtype: int64"
      ]
     },
     "execution_count": 595,
     "metadata": {},
     "output_type": "execute_result"
    }
   ],
   "source": [
    "# Which payment method is the most popular? How many times was it used?\n",
    "invoices.groupby('payment_method').count()['invoice_no'].sort_values(ascending = False).head(1)"
   ]
  },
  {
   "cell_type": "markdown",
   "id": "8befbcc9-3c62-4a95-a61f-486c62843f9a",
   "metadata": {},
   "source": [
    "# MEDIUM"
   ]
  },
  {
   "cell_type": "code",
   "execution_count": 552,
   "id": "92325f36-41d2-4263-9193-ca7356584223",
   "metadata": {},
   "outputs": [
    {
     "data": {
      "text/html": [
       "<div>\n",
       "<style scoped>\n",
       "    .dataframe tbody tr th:only-of-type {\n",
       "        vertical-align: middle;\n",
       "    }\n",
       "\n",
       "    .dataframe tbody tr th {\n",
       "        vertical-align: top;\n",
       "    }\n",
       "\n",
       "    .dataframe thead th {\n",
       "        text-align: right;\n",
       "    }\n",
       "</style>\n",
       "<table border=\"1\" class=\"dataframe\">\n",
       "  <thead>\n",
       "    <tr style=\"text-align: right;\">\n",
       "      <th></th>\n",
       "      <th>sale_price</th>\n",
       "    </tr>\n",
       "    <tr>\n",
       "      <th>category</th>\n",
       "      <th></th>\n",
       "    </tr>\n",
       "  </thead>\n",
       "  <tbody>\n",
       "    <tr>\n",
       "      <th>Clothing</th>\n",
       "      <td>1.139968e+08</td>\n",
       "    </tr>\n",
       "    <tr>\n",
       "      <th>Shoes</th>\n",
       "      <td>6.655345e+07</td>\n",
       "    </tr>\n",
       "    <tr>\n",
       "      <th>Technology</th>\n",
       "      <td>5.786235e+07</td>\n",
       "    </tr>\n",
       "  </tbody>\n",
       "</table>\n",
       "</div>"
      ],
      "text/plain": [
       "              sale_price\n",
       "category                \n",
       "Clothing    1.139968e+08\n",
       "Shoes       6.655345e+07\n",
       "Technology  5.786235e+07"
      ]
     },
     "execution_count": 552,
     "metadata": {},
     "output_type": "execute_result"
    }
   ],
   "source": [
    "# What are the three most popular categories, by total sales?\n",
    "invoices['sale_price'] = invoices['quantity'] * invoices['price']\n",
    "bob = invoices.groupby('category').sum()['sale_price']\n",
    "pd.DataFrame(bob).sort_values('sale_price', ascending = False)[:3]"
   ]
  },
  {
   "cell_type": "code",
   "execution_count": 553,
   "id": "38a51f42-ae95-4e62-ab51-92a703c140f7",
   "metadata": {},
   "outputs": [
    {
     "data": {
      "text/plain": [
       "82039768.15"
      ]
     },
     "execution_count": 553,
     "metadata": {},
     "output_type": "execute_result"
    }
   ],
   "source": [
    "# What are the total sales attributed to customers over the age of 45?\n",
    "invoices[invoices['customer_id'].isin(customers[customers['age'] > 45]['id'])]['sale_price'].sum()"
   ]
  },
  {
   "cell_type": "code",
   "execution_count": 554,
   "id": "680684cc-33ff-4972-9f2a-dc51bb50dddb",
   "metadata": {},
   "outputs": [
    {
     "data": {
      "image/png": "[encoded data removed]",
      "text/plain": [
       "<Figure size 640x480 with 1 Axes>"
      ]
     },
     "metadata": {},
     "output_type": "display_data"
    }
   ],
   "source": [
    "# How is the data distributed across different invoice dates? Are there any seasonal trends or patterns? (Use a graph for this.)\n",
    "\n",
    "merged = pd.merge(invoices,customers,how = \"left\", left_on = \"customer_id\", right_on = \"id\")\n",
    "merged[\"invoice_date\"] = pd.to_datetime(merged[\"invoice_date\"], dayfirst = True)\n",
    "merged[\"month\"] = merged[\"invoice_date\"].dt.month\n",
    "merged[\"year\"] = merged[\"invoice_date\"].dt.year\n",
    "\n",
    "# I tried letting the x-axis include the day of the individual invoices but it became unreadable, so i just categorized by month\n",
    "\n",
    "jeff = merged.groupby([\"year\", \"month\"])[\"sale_price\"].sum()\n",
    "newer = pd.DataFrame(jeff)\n",
    "newer.reset_index(inplace = True)\n",
    "plt.figure()\n",
    "\n",
    "for yr in [2021,2022,2023]:\n",
    "    plt.plot(newer[newer[\"year\"] == yr][\"month\"], newer[newer[\"year\"] == yr][\"sale_price\"], label = yr)\n",
    "    plt.xlabel(\"Month\")\n",
    "    plt.ylabel(\"Spending Amount\")\n",
    "    plt.title(\"Total Sales Across All Invoice Dates\")\n",
    "    plt.legend()\n",
    "\n",
    "plt.show()"
   ]
  },
  {
   "cell_type": "markdown",
   "id": "87e92cd0-92ca-4431-b770-a0ff40f920f6",
   "metadata": {},
   "source": [
    "# HARD"
   ]
  },
  {
   "cell_type": "code",
   "execution_count": 584,
   "id": "241e95c3-3fbd-4830-ad33-6e00aac2b1a8",
   "metadata": {},
   "outputs": [
    {
     "data": {
      "text/html": [
       "<div>\n",
       "<style scoped>\n",
       "    .dataframe tbody tr th:only-of-type {\n",
       "        vertical-align: middle;\n",
       "    }\n",
       "\n",
       "    .dataframe tbody tr th {\n",
       "        vertical-align: top;\n",
       "    }\n",
       "\n",
       "    .dataframe thead th {\n",
       "        text-align: right;\n",
       "    }\n",
       "</style>\n",
       "<table border=\"1\" class=\"dataframe\">\n",
       "  <thead>\n",
       "    <tr style=\"text-align: right;\">\n",
       "      <th>age_range</th>\n",
       "      <th>10-19</th>\n",
       "      <th>20-29</th>\n",
       "      <th>30-39</th>\n",
       "      <th>40-49</th>\n",
       "      <th>50-59</th>\n",
       "      <th>60-69</th>\n",
       "      <th>70-79</th>\n",
       "      <th>80-89</th>\n",
       "      <th>Not Specified</th>\n",
       "    </tr>\n",
       "    <tr>\n",
       "      <th>category</th>\n",
       "      <th></th>\n",
       "      <th></th>\n",
       "      <th></th>\n",
       "      <th></th>\n",
       "      <th></th>\n",
       "      <th></th>\n",
       "      <th></th>\n",
       "      <th></th>\n",
       "      <th></th>\n",
       "    </tr>\n",
       "  </thead>\n",
       "  <tbody>\n",
       "    <tr>\n",
       "      <th>Books</th>\n",
       "      <td>12801.75</td>\n",
       "      <td>79461.75</td>\n",
       "      <td>84143.10</td>\n",
       "      <td>87203.40</td>\n",
       "      <td>74962.20</td>\n",
       "      <td>80476.80</td>\n",
       "      <td>54827.85</td>\n",
       "      <td>26664.00</td>\n",
       "      <td>334012.05</td>\n",
       "    </tr>\n",
       "    <tr>\n",
       "      <th>Clothing</th>\n",
       "      <td>1927413.84</td>\n",
       "      <td>10250732.80</td>\n",
       "      <td>11354126.96</td>\n",
       "      <td>11215189.92</td>\n",
       "      <td>10321851.76</td>\n",
       "      <td>10660642.08</td>\n",
       "      <td>7769371.28</td>\n",
       "      <td>4493698.00</td>\n",
       "      <td>46003764.40</td>\n",
       "    </tr>\n",
       "    <tr>\n",
       "      <th>Cosmetics</th>\n",
       "      <td>109619.36</td>\n",
       "      <td>605915.32</td>\n",
       "      <td>723544.70</td>\n",
       "      <td>665034.96</td>\n",
       "      <td>587780.96</td>\n",
       "      <td>649990.76</td>\n",
       "      <td>419082.62</td>\n",
       "      <td>254531.60</td>\n",
       "      <td>2777362.62</td>\n",
       "    </tr>\n",
       "    <tr>\n",
       "      <th>Food &amp; Beverage</th>\n",
       "      <td>13582.31</td>\n",
       "      <td>73491.96</td>\n",
       "      <td>87246.86</td>\n",
       "      <td>89553.29</td>\n",
       "      <td>72425.04</td>\n",
       "      <td>80976.09</td>\n",
       "      <td>55050.98</td>\n",
       "      <td>31332.93</td>\n",
       "      <td>345875.59</td>\n",
       "    </tr>\n",
       "    <tr>\n",
       "      <th>Shoes</th>\n",
       "      <td>993281.35</td>\n",
       "      <td>5924878.24</td>\n",
       "      <td>7200839.66</td>\n",
       "      <td>7025590.02</td>\n",
       "      <td>5852857.84</td>\n",
       "      <td>5978893.54</td>\n",
       "      <td>4480269.05</td>\n",
       "      <td>2628744.60</td>\n",
       "      <td>26468097.17</td>\n",
       "    </tr>\n",
       "    <tr>\n",
       "      <th>Souvenir</th>\n",
       "      <td>12375.15</td>\n",
       "      <td>54943.32</td>\n",
       "      <td>64092.72</td>\n",
       "      <td>66391.80</td>\n",
       "      <td>54943.32</td>\n",
       "      <td>55025.43</td>\n",
       "      <td>38673.81</td>\n",
       "      <td>23718.06</td>\n",
       "      <td>265661.04</td>\n",
       "    </tr>\n",
       "    <tr>\n",
       "      <th>Technology</th>\n",
       "      <td>1129800.00</td>\n",
       "      <td>5261550.00</td>\n",
       "      <td>6159300.00</td>\n",
       "      <td>5954550.00</td>\n",
       "      <td>4435200.00</td>\n",
       "      <td>5471550.00</td>\n",
       "      <td>3638250.00</td>\n",
       "      <td>1946700.00</td>\n",
       "      <td>23865450.00</td>\n",
       "    </tr>\n",
       "    <tr>\n",
       "      <th>Toys</th>\n",
       "      <td>60426.24</td>\n",
       "      <td>385100.80</td>\n",
       "      <td>420582.40</td>\n",
       "      <td>390906.88</td>\n",
       "      <td>345067.52</td>\n",
       "      <td>363955.20</td>\n",
       "      <td>273244.16</td>\n",
       "      <td>153932.80</td>\n",
       "      <td>1587210.24</td>\n",
       "    </tr>\n",
       "  </tbody>\n",
       "</table>\n",
       "</div>"
      ],
      "text/plain": [
       "age_range             10-19        20-29        30-39        40-49  \\\n",
       "category                                                             \n",
       "Books              12801.75     79461.75     84143.10     87203.40   \n",
       "Clothing         1927413.84  10250732.80  11354126.96  11215189.92   \n",
       "Cosmetics         109619.36    605915.32    723544.70    665034.96   \n",
       "Food & Beverage    13582.31     73491.96     87246.86     89553.29   \n",
       "Shoes             993281.35   5924878.24   7200839.66   7025590.02   \n",
       "Souvenir           12375.15     54943.32     64092.72     66391.80   \n",
       "Technology       1129800.00   5261550.00   6159300.00   5954550.00   \n",
       "Toys               60426.24    385100.80    420582.40    390906.88   \n",
       "\n",
       "age_range              50-59        60-69       70-79       80-89  \\\n",
       "category                                                            \n",
       "Books               74962.20     80476.80    54827.85    26664.00   \n",
       "Clothing         10321851.76  10660642.08  7769371.28  4493698.00   \n",
       "Cosmetics          587780.96    649990.76   419082.62   254531.60   \n",
       "Food & Beverage     72425.04     80976.09    55050.98    31332.93   \n",
       "Shoes             5852857.84   5978893.54  4480269.05  2628744.60   \n",
       "Souvenir            54943.32     55025.43    38673.81    23718.06   \n",
       "Technology        4435200.00   5471550.00  3638250.00  1946700.00   \n",
       "Toys               345067.52    363955.20   273244.16   153932.80   \n",
       "\n",
       "age_range        Not Specified  \n",
       "category                        \n",
       "Books                334012.05  \n",
       "Clothing           46003764.40  \n",
       "Cosmetics           2777362.62  \n",
       "Food & Beverage      345875.59  \n",
       "Shoes              26468097.17  \n",
       "Souvenir             265661.04  \n",
       "Technology         23865450.00  \n",
       "Toys                1587210.24  "
      ]
     },
     "execution_count": 584,
     "metadata": {},
     "output_type": "execute_result"
    }
   ],
   "source": [
    "# Create a pivot table showing the breakdown of sales across these dimensions, in this order: category, decade age range (e.g., 10-19, 20-29, and so forth).\n",
    "def age(x):\n",
    "    if (x >= 10) and (x <= 19):\n",
    "        return '10-19'\n",
    "    if (x >= 20) and (x <= 29):\n",
    "        return '20-29'\n",
    "    if (x >= 30) and (x <= 39):\n",
    "        return '30-39'\n",
    "    if (x >= 40) and (x <= 49):\n",
    "        return '40-49'\n",
    "    if (x >= 50) and (x <= 59):\n",
    "        return '50-59'\n",
    "    if (x >= 60) and (x <= 69):\n",
    "        return '60-69'\n",
    "    if (x >= 70) and (x <= 79):\n",
    "        return '70-79'\n",
    "    if (x >= 80) and (x <= 89):\n",
    "        return '80-89'\n",
    "    if (x >= 90) and (x <= 99):\n",
    "        return '90-99'\n",
    "    else:\n",
    "        return 'Not Specified'\n",
    "\n",
    "merged['age_range'] = merged['age'].apply(age)\n",
    "pd.pivot_table(merged, values = 'sale_price', index = 'category', columns = 'age_range', aggfunc = 'sum', fill_value = 0)"
   ]
  }
 ],
 "metadata": {
  "kernelspec": {
   "display_name": "Python 3 (ipykernel)",
   "language": "python",
   "name": "python3"
  },
  "language_info": {
   "codemirror_mode": {
    "name": "ipython",
    "version": 3
   },
   "file_extension": ".py",
   "mimetype": "text/x-python",
   "name": "python",
   "nbconvert_exporter": "python",
   "pygments_lexer": "ipython3",
   "version": "3.11.7"
  }
 },
 "nbformat": 4,
 "nbformat_minor": 5
}
